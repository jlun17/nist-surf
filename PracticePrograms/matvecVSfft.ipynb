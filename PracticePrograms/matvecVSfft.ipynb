{
 "cells": [
  {
   "cell_type": "code",
   "execution_count": 1,
   "id": "trained-bargain",
   "metadata": {},
   "outputs": [],
   "source": [
    "import numpy as np\n",
    "import scipy.fft\n",
    "from scipy.constants import pi\n",
    "import time\n",
    "import matplotlib.pyplot as plt"
   ]
  },
  {
   "cell_type": "markdown",
   "id": "skilled-daughter",
   "metadata": {},
   "source": [
    "### Discrete Fourier Transform\n",
    "\n",
    "$$F_n = \\sum_{k=0}^{N-1} f_k e^{-2\\pi ink / N}$$\n",
    "\n",
    "Matvec:\n",
    "\n",
    "$$F = A * f$$\n",
    "\n",
    "where $A$ is an $N \\times N$ matrix constructed from $e^{-2\\pi ink / N}$ where $k = 0, 1, ..., N-1$ is incremented along the columns and $n = 0, 1, ..., N-1$ is incremented along the rows."
   ]
  },
  {
   "cell_type": "code",
   "execution_count": 2,
   "id": "strategic-duration",
   "metadata": {},
   "outputs": [],
   "source": [
    "def dft(x):\n",
    "    N = len(x)\n",
    "    \n",
    "#     A = np.zeros((N, N), dtype=complex)\n",
    "#     for n in range(N):\n",
    "#         for k in range(N):\n",
    "#             A[n, k] = np.exp((-2 * pi * 1j * n * k) / N)\n",
    "    \n",
    "    a1 = np.arange(0, N, 1).reshape(N, 1)\n",
    "    a2 = np.arange(0, N, 1).reshape(1, N)\n",
    "    A =  np.matmul(a1, a2)\n",
    "    A = np.exp((-2 * pi * 1j * A) / N)\n",
    "    \n",
    "    mvFt = np.matmul(A, x)\n",
    "    return mvFt"
   ]
  },
  {
   "cell_type": "code",
   "execution_count": 29,
   "id": "answering-frame",
   "metadata": {},
   "outputs": [],
   "source": [
    "Narr = np.arange(300, 16000, 200)\n",
    "tMatvec = np.zeros(len(Narr))\n",
    "tFFT = np.zeros(len(Narr))\n",
    "for i in range(len(Narr)):\n",
    "    N = Narr[i]\n",
    "    v = np.linspace(0, 100, N)\n",
    "    t1 = time.time()\n",
    "    mvFt = dft(v)\n",
    "    t2 = time.time()\n",
    "    fft = scipy.fft.fft(v)\n",
    "    t3 = time.time()\n",
    "    tMatvec[i] = t2 - t1\n",
    "    tFFT[i] = t3 - t2\n",
    "    if(not np.allclose(mvFt, fft)):\n",
    "        raise Exception(\"That was bad\")"
   ]
  },
  {
   "cell_type": "code",
   "execution_count": 4,
   "id": "efficient-kernel",
   "metadata": {},
   "outputs": [
    {
     "data": {
      "text/plain": [
       "Text(0, 0.5, 'Time (seconds)')"
      ]
     },
     "execution_count": 4,
     "metadata": {},
     "output_type": "execute_result"
    },
    {
     "data": {
      "image/png": "[encoded data removed]",
      "text/plain": [
       "<Figure size 720x432 with 1 Axes>"
      ]
     },
     "metadata": {
      "needs_background": "light"
     },
     "output_type": "display_data"
    }
   ],
   "source": [
    "fig = plt.figure(figsize=(10,6))\n",
    "axes = fig.add_axes([0.1, 0.1, 0.8, 0.8])\n",
    "axes.plot(Narr, tMatvec, label='matvec')\n",
    "axes.plot(Narr, tFFT, label='fft')\n",
    "axes.legend()\n",
    "axes.set_xlabel('Number of elements')\n",
    "axes.set_ylabel('Time (seconds)')"
   ]
  },
  {
   "cell_type": "code",
   "execution_count": 5,
   "id": "legislative-bloom",
   "metadata": {},
   "outputs": [
    {
     "name": "stdout",
     "output_type": "stream",
     "text": [
      "total matvec time: 98.293 s\n",
      "total fft time: 0.010 s\n"
     ]
    }
   ],
   "source": [
    "print('total matvec time: {:.3f} s'.format(np.sum(tMatvec)))\n",
    "print('total fft time: {:.3f} s'.format(np.sum(tFFT)))"
   ]
  },
  {
   "cell_type": "code",
   "execution_count": 3,
   "id": "virgin-smell",
   "metadata": {},
   "outputs": [],
   "source": [
    "Narr = np.arange(300, 10000, 200)\n",
    "tMatvec = np.zeros(len(Narr))\n",
    "tFFT = np.zeros(len(Narr))\n",
    "for i in range(len(Narr)):\n",
    "    N = Narr[i]\n",
    "    v = 2 * np.pi * np.random.uniform(size=N)\n",
    "    t1 = time.time()\n",
    "    mvFt = dft(v)\n",
    "    t2 = time.time()\n",
    "    fft = scipy.fft.fft(v)\n",
    "    t3 = time.time()\n",
    "    tMatvec[i] = t2 - t1\n",
    "    tFFT[i] = t3 - t2\n",
    "    if(not np.allclose(mvFt, fft)):\n",
    "        raise Exception(\"That was bad\")"
   ]
  },
  {
   "cell_type": "code",
   "execution_count": null,
   "id": "0f838f71",
   "metadata": {},
   "outputs": [],
   "source": []
  }
 ],
 "metadata": {
  "kernelspec": {
   "display_name": "Python 3",
   "language": "python",
   "name": "python3"
  },
  "language_info": {
   "codemirror_mode": {
    "name": "ipython",
    "version": 3
   },
   "file_extension": ".py",
   "mimetype": "text/x-python",
   "name": "python",
   "nbconvert_exporter": "python",
   "pygments_lexer": "ipython3",
   "version": "3.6.10"
  }
 },
 "nbformat": 4,
 "nbformat_minor": 5
}
